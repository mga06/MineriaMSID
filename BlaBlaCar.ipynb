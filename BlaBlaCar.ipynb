{
  "nbformat": 4,
  "nbformat_minor": 0,
  "metadata": {
    "colab": {
      "provenance": [],
      "authorship_tag": "ABX9TyPey5tesRWnC6us9mv7dUaj",
      "include_colab_link": true
    },
    "kernelspec": {
      "name": "python3",
      "display_name": "Python 3"
    },
    "language_info": {
      "name": "python"
    }
  },
  "cells": [
    {
      "cell_type": "markdown",
      "metadata": {
        "id": "view-in-github",
        "colab_type": "text"
      },
      "source": [
        "<a href=\"https://colab.research.google.com/github/mga06/MineriaMSID/blob/master/BlaBlaCar.ipynb\" target=\"_parent\"><img src=\"https://colab.research.google.com/assets/colab-badge.svg\" alt=\"Open In Colab\"/></a>"
      ]
    },
    {
      "cell_type": "code",
      "execution_count": 32,
      "metadata": {
        "id": "--3GGTYEt6E8"
      },
      "outputs": [],
      "source": [
        "# En caso de existir ficheros del repo almacenados, se eliminan completamente y\n",
        "# se instala una dependencia de Git LFS para poder guardar y descargar ficheros\n",
        "# de gran volumen\n",
        "%%capture\n",
        "!rm -r MineriaMSID\n",
        "!sudo apt-get install git-lfs\n",
        "!git lfs install\n",
        "\n",
        "# Clonamos el repositorio donde tenemos almacenado el Dataset\n",
        "!git clone https://github.com/mga06/MineriaMSID.git"
      ]
    },
    {
      "cell_type": "code",
      "source": [
        "# Leemos el dataset obtenido del repositorio\n",
        "import pandas as pd\n",
        "\n",
        "dataset = pd.read_csv('MineriaMSID/DATOS.txt', sep='|')"
      ],
      "metadata": {
        "id": "0toe4jc0utU1"
      },
      "execution_count": 33,
      "outputs": []
    },
    {
      "cell_type": "markdown",
      "source": [
        "# Descripción breve de los datos originales.\n",
        "Este conjunto de datos contiene información sobre los trayectos ofertados en la plataforma BlaBlaCar"
      ],
      "metadata": {
        "id": "MYD8gU_yw2sh"
      }
    },
    {
      "cell_type": "code",
      "source": [
        "# Consultamos volumen de datos que tiene el Dataset\n",
        "filas, columnas = dataset.shape\n",
        "\n",
        "# Creamos una tabla para mostrar los valores\n",
        "datos = {\n",
        "     '': ['Filas', 'Columnas'],\n",
        "     'Valor': [str(filas)+\" elementos\", str(columnas)+\" elementos\"]\n",
        " }\n",
        "tabla_temporal = pd.DataFrame(data=datos)\n",
        "tabla_temporal"
      ],
      "metadata": {
        "colab": {
          "base_uri": "https://localhost:8080/",
          "height": 112
        },
        "id": "5999rAvYxQSC",
        "outputId": "233d26c5-c54d-4527-fa58-65954eaf9d77"
      },
      "execution_count": 34,
      "outputs": [
        {
          "output_type": "execute_result",
          "data": {
            "text/plain": [
              "                          Valor\n",
              "0     Filas  11346914 elementos\n",
              "1  Columnas        11 elementos"
            ],
            "text/html": [
              "\n",
              "  <div id=\"df-3dfc284f-4ab9-45dd-9c9d-01e5800a7ce1\">\n",
              "    <div class=\"colab-df-container\">\n",
              "      <div>\n",
              "<style scoped>\n",
              "    .dataframe tbody tr th:only-of-type {\n",
              "        vertical-align: middle;\n",
              "    }\n",
              "\n",
              "    .dataframe tbody tr th {\n",
              "        vertical-align: top;\n",
              "    }\n",
              "\n",
              "    .dataframe thead th {\n",
              "        text-align: right;\n",
              "    }\n",
              "</style>\n",
              "<table border=\"1\" class=\"dataframe\">\n",
              "  <thead>\n",
              "    <tr style=\"text-align: right;\">\n",
              "      <th></th>\n",
              "      <th></th>\n",
              "      <th>Valor</th>\n",
              "    </tr>\n",
              "  </thead>\n",
              "  <tbody>\n",
              "    <tr>\n",
              "      <th>0</th>\n",
              "      <td>Filas</td>\n",
              "      <td>11346914 elementos</td>\n",
              "    </tr>\n",
              "    <tr>\n",
              "      <th>1</th>\n",
              "      <td>Columnas</td>\n",
              "      <td>11 elementos</td>\n",
              "    </tr>\n",
              "  </tbody>\n",
              "</table>\n",
              "</div>\n",
              "      <button class=\"colab-df-convert\" onclick=\"convertToInteractive('df-3dfc284f-4ab9-45dd-9c9d-01e5800a7ce1')\"\n",
              "              title=\"Convert this dataframe to an interactive table.\"\n",
              "              style=\"display:none;\">\n",
              "        \n",
              "  <svg xmlns=\"http://www.w3.org/2000/svg\" height=\"24px\"viewBox=\"0 0 24 24\"\n",
              "       width=\"24px\">\n",
              "    <path d=\"M0 0h24v24H0V0z\" fill=\"none\"/>\n",
              "    <path d=\"M18.56 5.44l.94 2.06.94-2.06 2.06-.94-2.06-.94-.94-2.06-.94 2.06-2.06.94zm-11 1L8.5 8.5l.94-2.06 2.06-.94-2.06-.94L8.5 2.5l-.94 2.06-2.06.94zm10 10l.94 2.06.94-2.06 2.06-.94-2.06-.94-.94-2.06-.94 2.06-2.06.94z\"/><path d=\"M17.41 7.96l-1.37-1.37c-.4-.4-.92-.59-1.43-.59-.52 0-1.04.2-1.43.59L10.3 9.45l-7.72 7.72c-.78.78-.78 2.05 0 2.83L4 21.41c.39.39.9.59 1.41.59.51 0 1.02-.2 1.41-.59l7.78-7.78 2.81-2.81c.8-.78.8-2.07 0-2.86zM5.41 20L4 18.59l7.72-7.72 1.47 1.35L5.41 20z\"/>\n",
              "  </svg>\n",
              "      </button>\n",
              "      \n",
              "  <style>\n",
              "    .colab-df-container {\n",
              "      display:flex;\n",
              "      flex-wrap:wrap;\n",
              "      gap: 12px;\n",
              "    }\n",
              "\n",
              "    .colab-df-convert {\n",
              "      background-color: #E8F0FE;\n",
              "      border: none;\n",
              "      border-radius: 50%;\n",
              "      cursor: pointer;\n",
              "      display: none;\n",
              "      fill: #1967D2;\n",
              "      height: 32px;\n",
              "      padding: 0 0 0 0;\n",
              "      width: 32px;\n",
              "    }\n",
              "\n",
              "    .colab-df-convert:hover {\n",
              "      background-color: #E2EBFA;\n",
              "      box-shadow: 0px 1px 2px rgba(60, 64, 67, 0.3), 0px 1px 3px 1px rgba(60, 64, 67, 0.15);\n",
              "      fill: #174EA6;\n",
              "    }\n",
              "\n",
              "    [theme=dark] .colab-df-convert {\n",
              "      background-color: #3B4455;\n",
              "      fill: #D2E3FC;\n",
              "    }\n",
              "\n",
              "    [theme=dark] .colab-df-convert:hover {\n",
              "      background-color: #434B5C;\n",
              "      box-shadow: 0px 1px 3px 1px rgba(0, 0, 0, 0.15);\n",
              "      filter: drop-shadow(0px 1px 2px rgba(0, 0, 0, 0.3));\n",
              "      fill: #FFFFFF;\n",
              "    }\n",
              "  </style>\n",
              "\n",
              "      <script>\n",
              "        const buttonEl =\n",
              "          document.querySelector('#df-3dfc284f-4ab9-45dd-9c9d-01e5800a7ce1 button.colab-df-convert');\n",
              "        buttonEl.style.display =\n",
              "          google.colab.kernel.accessAllowed ? 'block' : 'none';\n",
              "\n",
              "        async function convertToInteractive(key) {\n",
              "          const element = document.querySelector('#df-3dfc284f-4ab9-45dd-9c9d-01e5800a7ce1');\n",
              "          const dataTable =\n",
              "            await google.colab.kernel.invokeFunction('convertToInteractive',\n",
              "                                                     [key], {});\n",
              "          if (!dataTable) return;\n",
              "\n",
              "          const docLinkHtml = 'Like what you see? Visit the ' +\n",
              "            '<a target=\"_blank\" href=https://colab.research.google.com/notebooks/data_table.ipynb>data table notebook</a>'\n",
              "            + ' to learn more about interactive tables.';\n",
              "          element.innerHTML = '';\n",
              "          dataTable['output_type'] = 'display_data';\n",
              "          await google.colab.output.renderOutput(dataTable, element);\n",
              "          const docLink = document.createElement('div');\n",
              "          docLink.innerHTML = docLinkHtml;\n",
              "          element.appendChild(docLink);\n",
              "        }\n",
              "      </script>\n",
              "    </div>\n",
              "  </div>\n",
              "  "
            ]
          },
          "metadata": {},
          "execution_count": 34
        }
      ]
    },
    {
      "cell_type": "code",
      "source": [
        "# Describimos el tipo de datos que tiene cada columna del dataset\n",
        "dataset.dtypes"
      ],
      "metadata": {
        "colab": {
          "base_uri": "https://localhost:8080/"
        },
        "id": "m_25Drz-zCZH",
        "outputId": "b81a6f81-20d3-4fea-ff6a-34d4efef9ba9"
      },
      "execution_count": 35,
      "outputs": [
        {
          "output_type": "execute_result",
          "data": {
            "text/plain": [
              "DIA                      object\n",
              "PAIS                     object\n",
              "ORIGEN                   object\n",
              "DESTINO                  object\n",
              "IMP_KM                  float64\n",
              "ASIENTOS_OFERTADOS      float64\n",
              "ASIENTOS_CONFIRMADOS      int64\n",
              "VIAJES_OFERTADOS          int64\n",
              "VIAJES_CONFIRMADOS        int64\n",
              "OFERTANTES                int64\n",
              "OFERTANTES_NUEVOS         int64\n",
              "dtype: object"
            ]
          },
          "metadata": {},
          "execution_count": 35
        }
      ]
    },
    {
      "cell_type": "markdown",
      "source": [
        "Los tipos de datos que vemos en cada columna son:\n",
        "\n",
        "  Tipo  | Uso \n",
        "-------------------|------------------\n",
        "  object      | `Texto o valores mixtos (valores numéricos y no numéricos)`\n",
        "  int64       | `Valores enteros`\n",
        "  float64       | `Valores de punto flotante`"
      ],
      "metadata": {
        "id": "6WW5HRIY2Mjt"
      }
    }
  ]
}