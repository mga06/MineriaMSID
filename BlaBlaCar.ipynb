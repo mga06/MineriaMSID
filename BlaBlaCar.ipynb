{
  "nbformat": 4,
  "nbformat_minor": 0,
  "metadata": {
    "colab": {
      "provenance": [],
      "authorship_tag": "ABX9TyO9XMCRdcGy1FIsT6zHPy3A",
      "include_colab_link": true
    },
    "kernelspec": {
      "name": "python3",
      "display_name": "Python 3"
    },
    "language_info": {
      "name": "python"
    }
  },
  "cells": [
    {
      "cell_type": "markdown",
      "metadata": {
        "id": "view-in-github",
        "colab_type": "text"
      },
      "source": [
        "<a href=\"https://colab.research.google.com/github/mga06/MineriaMSID/blob/master/BlaBlaCar.ipynb\" target=\"_parent\"><img src=\"https://colab.research.google.com/assets/colab-badge.svg\" alt=\"Open In Colab\"/></a>"
      ]
    },
    {
      "cell_type": "code",
      "execution_count": null,
      "metadata": {
        "id": "--3GGTYEt6E8"
      },
      "outputs": [],
      "source": [
        "# En caso de existir ficheros del repo almacenados, se eliminan completamente y\n",
        "# se instala una dependencia de Git LFS para poder guardar y descargar ficheros\n",
        "# de gran volumen\n",
        "%%capture\n",
        "!rm -r MineriaMSID\n",
        "!sudo apt-get install git-lfs\n",
        "!git lfs install\n",
        "\n",
        "# Clonamos el repositorio donde tenemos almacenado el Dataset\n",
        "!git clone https://github.com/mga06/MineriaMSID.git"
      ]
    },
    {
      "cell_type": "code",
      "source": [
        "# Leemos el dataset obtenido del repositorio\n",
        "import pandas as pd\n",
        "\n",
        "dataset = pd.read_csv('MineriaMSID/DATOS.txt', sep='|')\n",
        "dataset.head()"
      ],
      "metadata": {
        "colab": {
          "base_uri": "https://localhost:8080/",
          "height": 357
        },
        "id": "0toe4jc0utU1",
        "outputId": "10700a54-f106-4f7b-e6d9-b1899d2b204d"
      },
      "execution_count": 20,
      "outputs": [
        {
          "output_type": "execute_result",
          "data": {
            "text/plain": [
              "          DIA PAIS    ORIGEN    DESTINO  IMP_KM  ASIENTOS_OFERTADOS  \\\n",
              "0  01/11/2017   es  A Cañiza     A Lama     NaN                 3.0   \n",
              "1  01/11/2017   es  A Cañiza        Mos     NaN                 5.0   \n",
              "2  01/11/2017   es  A Cañiza  O Porriño     NaN                 3.0   \n",
              "3  01/11/2017   es  A Cañiza    Ourense     NaN                 7.0   \n",
              "4  01/11/2017   es  A Cañiza  Ribadavia     NaN                 7.0   \n",
              "\n",
              "   ASIENTOS_CONFIRMADOS  VIAJES_OFERTADOS  VIAJES_CONFIRMADOS  OFERTANTES  \\\n",
              "0                     0                 1                   0           1   \n",
              "1                     0                 2                   0           2   \n",
              "2                     0                 1                   0           1   \n",
              "3                     0                 2                   0           2   \n",
              "4                     0                 2                   0           2   \n",
              "\n",
              "   OFERTANTES_NUEVOS  \n",
              "0                  0  \n",
              "1                  0  \n",
              "2                  0  \n",
              "3                  0  \n",
              "4                  0  "
            ],
            "text/html": [
              "\n",
              "  <div id=\"df-9efa117a-af73-4204-b1fd-e9322b5fb193\">\n",
              "    <div class=\"colab-df-container\">\n",
              "      <div>\n",
              "<style scoped>\n",
              "    .dataframe tbody tr th:only-of-type {\n",
              "        vertical-align: middle;\n",
              "    }\n",
              "\n",
              "    .dataframe tbody tr th {\n",
              "        vertical-align: top;\n",
              "    }\n",
              "\n",
              "    .dataframe thead th {\n",
              "        text-align: right;\n",
              "    }\n",
              "</style>\n",
              "<table border=\"1\" class=\"dataframe\">\n",
              "  <thead>\n",
              "    <tr style=\"text-align: right;\">\n",
              "      <th></th>\n",
              "      <th>DIA</th>\n",
              "      <th>PAIS</th>\n",
              "      <th>ORIGEN</th>\n",
              "      <th>DESTINO</th>\n",
              "      <th>IMP_KM</th>\n",
              "      <th>ASIENTOS_OFERTADOS</th>\n",
              "      <th>ASIENTOS_CONFIRMADOS</th>\n",
              "      <th>VIAJES_OFERTADOS</th>\n",
              "      <th>VIAJES_CONFIRMADOS</th>\n",
              "      <th>OFERTANTES</th>\n",
              "      <th>OFERTANTES_NUEVOS</th>\n",
              "    </tr>\n",
              "  </thead>\n",
              "  <tbody>\n",
              "    <tr>\n",
              "      <th>0</th>\n",
              "      <td>01/11/2017</td>\n",
              "      <td>es</td>\n",
              "      <td>A Cañiza</td>\n",
              "      <td>A Lama</td>\n",
              "      <td>NaN</td>\n",
              "      <td>3.0</td>\n",
              "      <td>0</td>\n",
              "      <td>1</td>\n",
              "      <td>0</td>\n",
              "      <td>1</td>\n",
              "      <td>0</td>\n",
              "    </tr>\n",
              "    <tr>\n",
              "      <th>1</th>\n",
              "      <td>01/11/2017</td>\n",
              "      <td>es</td>\n",
              "      <td>A Cañiza</td>\n",
              "      <td>Mos</td>\n",
              "      <td>NaN</td>\n",
              "      <td>5.0</td>\n",
              "      <td>0</td>\n",
              "      <td>2</td>\n",
              "      <td>0</td>\n",
              "      <td>2</td>\n",
              "      <td>0</td>\n",
              "    </tr>\n",
              "    <tr>\n",
              "      <th>2</th>\n",
              "      <td>01/11/2017</td>\n",
              "      <td>es</td>\n",
              "      <td>A Cañiza</td>\n",
              "      <td>O Porriño</td>\n",
              "      <td>NaN</td>\n",
              "      <td>3.0</td>\n",
              "      <td>0</td>\n",
              "      <td>1</td>\n",
              "      <td>0</td>\n",
              "      <td>1</td>\n",
              "      <td>0</td>\n",
              "    </tr>\n",
              "    <tr>\n",
              "      <th>3</th>\n",
              "      <td>01/11/2017</td>\n",
              "      <td>es</td>\n",
              "      <td>A Cañiza</td>\n",
              "      <td>Ourense</td>\n",
              "      <td>NaN</td>\n",
              "      <td>7.0</td>\n",
              "      <td>0</td>\n",
              "      <td>2</td>\n",
              "      <td>0</td>\n",
              "      <td>2</td>\n",
              "      <td>0</td>\n",
              "    </tr>\n",
              "    <tr>\n",
              "      <th>4</th>\n",
              "      <td>01/11/2017</td>\n",
              "      <td>es</td>\n",
              "      <td>A Cañiza</td>\n",
              "      <td>Ribadavia</td>\n",
              "      <td>NaN</td>\n",
              "      <td>7.0</td>\n",
              "      <td>0</td>\n",
              "      <td>2</td>\n",
              "      <td>0</td>\n",
              "      <td>2</td>\n",
              "      <td>0</td>\n",
              "    </tr>\n",
              "  </tbody>\n",
              "</table>\n",
              "</div>\n",
              "      <button class=\"colab-df-convert\" onclick=\"convertToInteractive('df-9efa117a-af73-4204-b1fd-e9322b5fb193')\"\n",
              "              title=\"Convert this dataframe to an interactive table.\"\n",
              "              style=\"display:none;\">\n",
              "        \n",
              "  <svg xmlns=\"http://www.w3.org/2000/svg\" height=\"24px\"viewBox=\"0 0 24 24\"\n",
              "       width=\"24px\">\n",
              "    <path d=\"M0 0h24v24H0V0z\" fill=\"none\"/>\n",
              "    <path d=\"M18.56 5.44l.94 2.06.94-2.06 2.06-.94-2.06-.94-.94-2.06-.94 2.06-2.06.94zm-11 1L8.5 8.5l.94-2.06 2.06-.94-2.06-.94L8.5 2.5l-.94 2.06-2.06.94zm10 10l.94 2.06.94-2.06 2.06-.94-2.06-.94-.94-2.06-.94 2.06-2.06.94z\"/><path d=\"M17.41 7.96l-1.37-1.37c-.4-.4-.92-.59-1.43-.59-.52 0-1.04.2-1.43.59L10.3 9.45l-7.72 7.72c-.78.78-.78 2.05 0 2.83L4 21.41c.39.39.9.59 1.41.59.51 0 1.02-.2 1.41-.59l7.78-7.78 2.81-2.81c.8-.78.8-2.07 0-2.86zM5.41 20L4 18.59l7.72-7.72 1.47 1.35L5.41 20z\"/>\n",
              "  </svg>\n",
              "      </button>\n",
              "      \n",
              "  <style>\n",
              "    .colab-df-container {\n",
              "      display:flex;\n",
              "      flex-wrap:wrap;\n",
              "      gap: 12px;\n",
              "    }\n",
              "\n",
              "    .colab-df-convert {\n",
              "      background-color: #E8F0FE;\n",
              "      border: none;\n",
              "      border-radius: 50%;\n",
              "      cursor: pointer;\n",
              "      display: none;\n",
              "      fill: #1967D2;\n",
              "      height: 32px;\n",
              "      padding: 0 0 0 0;\n",
              "      width: 32px;\n",
              "    }\n",
              "\n",
              "    .colab-df-convert:hover {\n",
              "      background-color: #E2EBFA;\n",
              "      box-shadow: 0px 1px 2px rgba(60, 64, 67, 0.3), 0px 1px 3px 1px rgba(60, 64, 67, 0.15);\n",
              "      fill: #174EA6;\n",
              "    }\n",
              "\n",
              "    [theme=dark] .colab-df-convert {\n",
              "      background-color: #3B4455;\n",
              "      fill: #D2E3FC;\n",
              "    }\n",
              "\n",
              "    [theme=dark] .colab-df-convert:hover {\n",
              "      background-color: #434B5C;\n",
              "      box-shadow: 0px 1px 3px 1px rgba(0, 0, 0, 0.15);\n",
              "      filter: drop-shadow(0px 1px 2px rgba(0, 0, 0, 0.3));\n",
              "      fill: #FFFFFF;\n",
              "    }\n",
              "  </style>\n",
              "\n",
              "      <script>\n",
              "        const buttonEl =\n",
              "          document.querySelector('#df-9efa117a-af73-4204-b1fd-e9322b5fb193 button.colab-df-convert');\n",
              "        buttonEl.style.display =\n",
              "          google.colab.kernel.accessAllowed ? 'block' : 'none';\n",
              "\n",
              "        async function convertToInteractive(key) {\n",
              "          const element = document.querySelector('#df-9efa117a-af73-4204-b1fd-e9322b5fb193');\n",
              "          const dataTable =\n",
              "            await google.colab.kernel.invokeFunction('convertToInteractive',\n",
              "                                                     [key], {});\n",
              "          if (!dataTable) return;\n",
              "\n",
              "          const docLinkHtml = 'Like what you see? Visit the ' +\n",
              "            '<a target=\"_blank\" href=https://colab.research.google.com/notebooks/data_table.ipynb>data table notebook</a>'\n",
              "            + ' to learn more about interactive tables.';\n",
              "          element.innerHTML = '';\n",
              "          dataTable['output_type'] = 'display_data';\n",
              "          await google.colab.output.renderOutput(dataTable, element);\n",
              "          const docLink = document.createElement('div');\n",
              "          docLink.innerHTML = docLinkHtml;\n",
              "          element.appendChild(docLink);\n",
              "        }\n",
              "      </script>\n",
              "    </div>\n",
              "  </div>\n",
              "  "
            ]
          },
          "metadata": {},
          "execution_count": 20
        }
      ]
    },
    {
      "cell_type": "markdown",
      "source": [
        "# Descripción breve de los datos originales.\n",
        "Sobre que tratan, qué representan, que volumen de datos contienen. Se puede incluir descripción detallada (tablas, campos, pequeño análisis exploratorio) como anexo."
      ],
      "metadata": {
        "id": "MYD8gU_yw2sh"
      }
    },
    {
      "cell_type": "code",
      "source": [
        "# Consultamos volumen de datos que tiene el Dataset\n",
        "filas, columnas = dataset.shape\n",
        "\n",
        "# Creamos una tabla para mostrar los valores\n",
        "datos = {\n",
        "     '': ['Filas', 'Columnas'],\n",
        "     'Valor': [str(filas)+\" elementos\", str(columnas)+\" elementos\"]\n",
        " }\n",
        "tabla_temporal = pd.DataFrame(data=datos)\n",
        "tabla_temporal"
      ],
      "metadata": {
        "colab": {
          "base_uri": "https://localhost:8080/",
          "height": 112
        },
        "id": "5999rAvYxQSC",
        "outputId": "0434ab06-16a6-41ed-f4a7-7662758bea1d"
      },
      "execution_count": 18,
      "outputs": [
        {
          "output_type": "execute_result",
          "data": {
            "text/plain": [
              "                          Valor\n",
              "0     Filas  11346914 elementos\n",
              "1  Columnas        11 elementos"
            ],
            "text/html": [
              "\n",
              "  <div id=\"df-31fe030e-aa03-4c1a-8abc-6e04500b55b0\">\n",
              "    <div class=\"colab-df-container\">\n",
              "      <div>\n",
              "<style scoped>\n",
              "    .dataframe tbody tr th:only-of-type {\n",
              "        vertical-align: middle;\n",
              "    }\n",
              "\n",
              "    .dataframe tbody tr th {\n",
              "        vertical-align: top;\n",
              "    }\n",
              "\n",
              "    .dataframe thead th {\n",
              "        text-align: right;\n",
              "    }\n",
              "</style>\n",
              "<table border=\"1\" class=\"dataframe\">\n",
              "  <thead>\n",
              "    <tr style=\"text-align: right;\">\n",
              "      <th></th>\n",
              "      <th></th>\n",
              "      <th>Valor</th>\n",
              "    </tr>\n",
              "  </thead>\n",
              "  <tbody>\n",
              "    <tr>\n",
              "      <th>0</th>\n",
              "      <td>Filas</td>\n",
              "      <td>11346914 elementos</td>\n",
              "    </tr>\n",
              "    <tr>\n",
              "      <th>1</th>\n",
              "      <td>Columnas</td>\n",
              "      <td>11 elementos</td>\n",
              "    </tr>\n",
              "  </tbody>\n",
              "</table>\n",
              "</div>\n",
              "      <button class=\"colab-df-convert\" onclick=\"convertToInteractive('df-31fe030e-aa03-4c1a-8abc-6e04500b55b0')\"\n",
              "              title=\"Convert this dataframe to an interactive table.\"\n",
              "              style=\"display:none;\">\n",
              "        \n",
              "  <svg xmlns=\"http://www.w3.org/2000/svg\" height=\"24px\"viewBox=\"0 0 24 24\"\n",
              "       width=\"24px\">\n",
              "    <path d=\"M0 0h24v24H0V0z\" fill=\"none\"/>\n",
              "    <path d=\"M18.56 5.44l.94 2.06.94-2.06 2.06-.94-2.06-.94-.94-2.06-.94 2.06-2.06.94zm-11 1L8.5 8.5l.94-2.06 2.06-.94-2.06-.94L8.5 2.5l-.94 2.06-2.06.94zm10 10l.94 2.06.94-2.06 2.06-.94-2.06-.94-.94-2.06-.94 2.06-2.06.94z\"/><path d=\"M17.41 7.96l-1.37-1.37c-.4-.4-.92-.59-1.43-.59-.52 0-1.04.2-1.43.59L10.3 9.45l-7.72 7.72c-.78.78-.78 2.05 0 2.83L4 21.41c.39.39.9.59 1.41.59.51 0 1.02-.2 1.41-.59l7.78-7.78 2.81-2.81c.8-.78.8-2.07 0-2.86zM5.41 20L4 18.59l7.72-7.72 1.47 1.35L5.41 20z\"/>\n",
              "  </svg>\n",
              "      </button>\n",
              "      \n",
              "  <style>\n",
              "    .colab-df-container {\n",
              "      display:flex;\n",
              "      flex-wrap:wrap;\n",
              "      gap: 12px;\n",
              "    }\n",
              "\n",
              "    .colab-df-convert {\n",
              "      background-color: #E8F0FE;\n",
              "      border: none;\n",
              "      border-radius: 50%;\n",
              "      cursor: pointer;\n",
              "      display: none;\n",
              "      fill: #1967D2;\n",
              "      height: 32px;\n",
              "      padding: 0 0 0 0;\n",
              "      width: 32px;\n",
              "    }\n",
              "\n",
              "    .colab-df-convert:hover {\n",
              "      background-color: #E2EBFA;\n",
              "      box-shadow: 0px 1px 2px rgba(60, 64, 67, 0.3), 0px 1px 3px 1px rgba(60, 64, 67, 0.15);\n",
              "      fill: #174EA6;\n",
              "    }\n",
              "\n",
              "    [theme=dark] .colab-df-convert {\n",
              "      background-color: #3B4455;\n",
              "      fill: #D2E3FC;\n",
              "    }\n",
              "\n",
              "    [theme=dark] .colab-df-convert:hover {\n",
              "      background-color: #434B5C;\n",
              "      box-shadow: 0px 1px 3px 1px rgba(0, 0, 0, 0.15);\n",
              "      filter: drop-shadow(0px 1px 2px rgba(0, 0, 0, 0.3));\n",
              "      fill: #FFFFFF;\n",
              "    }\n",
              "  </style>\n",
              "\n",
              "      <script>\n",
              "        const buttonEl =\n",
              "          document.querySelector('#df-31fe030e-aa03-4c1a-8abc-6e04500b55b0 button.colab-df-convert');\n",
              "        buttonEl.style.display =\n",
              "          google.colab.kernel.accessAllowed ? 'block' : 'none';\n",
              "\n",
              "        async function convertToInteractive(key) {\n",
              "          const element = document.querySelector('#df-31fe030e-aa03-4c1a-8abc-6e04500b55b0');\n",
              "          const dataTable =\n",
              "            await google.colab.kernel.invokeFunction('convertToInteractive',\n",
              "                                                     [key], {});\n",
              "          if (!dataTable) return;\n",
              "\n",
              "          const docLinkHtml = 'Like what you see? Visit the ' +\n",
              "            '<a target=\"_blank\" href=https://colab.research.google.com/notebooks/data_table.ipynb>data table notebook</a>'\n",
              "            + ' to learn more about interactive tables.';\n",
              "          element.innerHTML = '';\n",
              "          dataTable['output_type'] = 'display_data';\n",
              "          await google.colab.output.renderOutput(dataTable, element);\n",
              "          const docLink = document.createElement('div');\n",
              "          docLink.innerHTML = docLinkHtml;\n",
              "          element.appendChild(docLink);\n",
              "        }\n",
              "      </script>\n",
              "    </div>\n",
              "  </div>\n",
              "  "
            ]
          },
          "metadata": {},
          "execution_count": 18
        }
      ]
    },
    {
      "cell_type": "code",
      "source": [
        "# Describimos el tipo de datos que tiene cada columna del dataset\n",
        "dataset.dtypes"
      ],
      "metadata": {
        "colab": {
          "base_uri": "https://localhost:8080/"
        },
        "id": "m_25Drz-zCZH",
        "outputId": "5ae5f193-1e5c-4270-eb61-183a3506c2bd"
      },
      "execution_count": 19,
      "outputs": [
        {
          "output_type": "execute_result",
          "data": {
            "text/plain": [
              "DIA                      object\n",
              "PAIS                     object\n",
              "ORIGEN                   object\n",
              "DESTINO                  object\n",
              "IMP_KM                  float64\n",
              "ASIENTOS_OFERTADOS      float64\n",
              "ASIENTOS_CONFIRMADOS      int64\n",
              "VIAJES_OFERTADOS          int64\n",
              "VIAJES_CONFIRMADOS        int64\n",
              "OFERTANTES                int64\n",
              "OFERTANTES_NUEVOS         int64\n",
              "dtype: object"
            ]
          },
          "metadata": {},
          "execution_count": 19
        }
      ]
    },
    {
      "cell_type": "markdown",
      "source": [
        "Como podemos ver, algunas columnas como DIA o PAIS son de tipo *object*. Para poder tratarlos adecuadamente, vamos a transformar estos tipos a otros más usables."
      ],
      "metadata": {
        "id": "zdl3wo7wzoCN"
      }
    },
    {
      "cell_type": "code",
      "source": [
        "dataset['DIA'] = pd.to_datetime(dataset['DIA'], format='%d-%m-%y')\n",
        "dataset['PAIS'] = dataset['PAIS'].astype('category')\n",
        "dataset.dtypes"
      ],
      "metadata": {
        "colab": {
          "base_uri": "https://localhost:8080/"
        },
        "id": "cYoG4PD1z2Uf",
        "outputId": "9666c114-7fbb-4628-8484-08ec4a34dd9e"
      },
      "execution_count": 31,
      "outputs": [
        {
          "output_type": "execute_result",
          "data": {
            "text/plain": [
              "DIA                     datetime64[ns]\n",
              "PAIS                            object\n",
              "ORIGEN                          object\n",
              "DESTINO                         object\n",
              "IMP_KM                         float64\n",
              "ASIENTOS_OFERTADOS             float64\n",
              "ASIENTOS_CONFIRMADOS             int64\n",
              "VIAJES_OFERTADOS                 int64\n",
              "VIAJES_CONFIRMADOS               int64\n",
              "OFERTANTES                       int64\n",
              "OFERTANTES_NUEVOS                int64\n",
              "dtype: object"
            ]
          },
          "metadata": {},
          "execution_count": 31
        }
      ]
    },
    {
      "cell_type": "code",
      "source": [
        "dataset.head()"
      ],
      "metadata": {
        "id": "DIRy_2li1frk"
      },
      "execution_count": null,
      "outputs": []
    }
  ]
}